{
 "cells": [
  {
   "cell_type": "code",
   "execution_count": null,
   "metadata": {},
   "outputs": [],
   "source": [
    "# !sh ./01_make_data_folders.sh"
   ]
  },
  {
   "cell_type": "code",
   "execution_count": null,
   "metadata": {},
   "outputs": [],
   "source": [
    "# !python ./02_make_data_split.py"
   ]
  },
  {
   "cell_type": "code",
   "execution_count": null,
   "metadata": {},
   "outputs": [],
   "source": [
    "import os\n",
    "os.environ['CUDA_VISIBLE_DEVICES'] = '1'\n",
    "N_JOBS = 15 # cpu_count()\n",
    "os.environ['MKL_NUM_THREADS'] = str(N_JOBS)\n",
    "os.environ['OMP_NUM_THREADS'] = str(N_JOBS)"
   ]
  },
  {
   "cell_type": "code",
   "execution_count": null,
   "metadata": {},
   "outputs": [],
   "source": [
    "# DO NOT DO THIS IN YOUR PROJETS\n",
    "from config import *\n",
    "from utils import *\n",
    "from keras_utils import *\n",
    "from augmentations import *"
   ]
  },
  {
   "cell_type": "code",
   "execution_count": null,
   "metadata": {
    "scrolled": true
   },
   "outputs": [],
   "source": [
    "import numpy as np\n",
    "import pandas as pd\n",
    "import matplotlib.pyplot as plt\n",
    "plt.style.use('seaborn-white')\n",
    "\n",
    "np.random.seed(SEED)\n",
    "random.seed(SEED)\n",
    "os.environ['PYTHONHASHSEED'] = str(SEED)\n",
    "np.random.seed(SEED)\n",
    "tf.set_random_seed(SEED)\n",
    "    \n",
    "%matplotlib inline"
   ]
  },
  {
   "cell_type": "code",
   "execution_count": null,
   "metadata": {},
   "outputs": [],
   "source": [
    "masks_bool = read_pickle_obj('masks_bool.pickle')"
   ]
  },
  {
   "cell_type": "code",
   "execution_count": null,
   "metadata": {
    "scrolled": true
   },
   "outputs": [],
   "source": [
    "K.clear_session()\n",
    "model = UEfficientNet(input_shape=(IMG_SIZE,IMG_SIZE,3), dropout_rate=0.25)\n",
    "model.load_weights(f'./keras.model_640_v3_stage1')"
   ]
  },
  {
   "cell_type": "code",
   "execution_count": null,
   "metadata": {},
   "outputs": [],
   "source": [
    "model.compile(loss=bce_dice_loss, optimizer='adam', metrics=[my_iou_metric])"
   ]
  },
  {
   "cell_type": "code",
   "execution_count": null,
   "metadata": {
    "scrolled": true
   },
   "outputs": [],
   "source": [
    "epochs = 80\n",
    "snapshot = SnapshotCallbackBuilder(nb_epochs=epochs,nb_snapshots=1,init_lr=5e-4)\n",
    "swa = SWA(f'./keras_swa_{TAG}.model', epochs-3)\n",
    "train_im_path,train_mask_path = f'{DATA_DIR}/keras_im_train',f'{DATA_DIR}/keras_mask_train'\n",
    "\n",
    "# Generators\n",
    "training_generator = DataGenerator(\n",
    "                                   train_im_path=train_im_path,\n",
    "                                   train_mask_path=train_mask_path,\n",
    "                                   augmentations=AUGMENTATIONS_TRAIN,\n",
    "                                   img_size=IMG_SIZE,\n",
    "                                   debug=False,\n",
    "                                   stratified=True,\n",
    "                                   shuffle=True,\n",
    "                                   masks_bool=masks_bool)\n",
    "\n",
    "valid_im_path,valid_mask_path = f'{DATA_DIR}/keras_im_val',f'{DATA_DIR}/keras_mask_val'\n",
    "\n",
    "validation_generator = DataGenerator(train_im_path=valid_im_path,\n",
    "                                     train_mask_path=valid_mask_path,\n",
    "                                     augmentations=AUGMENTATIONS_TEST,\n",
    "                                     img_size=IMG_SIZE,\n",
    "                                     batch_size=1,\n",
    "                                     debug=False,\n",
    "                                     shuffle=False)\n",
    "\n",
    "history = model.fit_generator(generator=training_generator,\n",
    "                              validation_data=validation_generator,\n",
    "                              use_multiprocessing=False,\n",
    "                              epochs=epochs,\n",
    "                              verbose=1,\n",
    "                              callbacks=snapshot.get_callbacks())"
   ]
  },
  {
   "cell_type": "code",
   "execution_count": null,
   "metadata": {},
   "outputs": [],
   "source": [
    "quit()"
   ]
  }
 ],
 "metadata": {
  "kernelspec": {
   "display_name": "WZ",
   "language": "python",
   "name": "wz"
  },
  "language_info": {
   "codemirror_mode": {
    "name": "ipython",
    "version": 3
   },
   "file_extension": ".py",
   "mimetype": "text/x-python",
   "name": "python",
   "nbconvert_exporter": "python",
   "pygments_lexer": "ipython3",
   "version": "3.7.3"
  }
 },
 "nbformat": 4,
 "nbformat_minor": 2
}
