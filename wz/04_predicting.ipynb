{
 "cells": [
  {
   "cell_type": "code",
   "execution_count": null,
   "metadata": {},
   "outputs": [],
   "source": [
    "import os\n",
    "os.environ['CUDA_VISIBLE_DEVICES'] = '1'\n",
    "N_JOBS = 15 # cpu_count()\n",
    "os.environ['MKL_NUM_THREADS'] = str(N_JOBS)\n",
    "os.environ['OMP_NUM_THREADS'] = str(N_JOBS)"
   ]
  },
  {
   "cell_type": "code",
   "execution_count": null,
   "metadata": {},
   "outputs": [],
   "source": [
    "# DO NOT DO THIS IN YOUR PROJETS\n",
    "from config import *\n",
    "from utils import *\n",
    "from keras_utils import *\n",
    "from augmentations import *"
   ]
  },
  {
   "cell_type": "code",
   "execution_count": null,
   "metadata": {},
   "outputs": [],
   "source": [
    "model = UEfficientNet(input_shape=(IMG_SIZE,IMG_SIZE,3), dropout_rate=0.25)\n",
    "model.load_weights(f'{CHECKPOINT_DIR}/keras.model_{TAG}')\n",
    "model.compile(loss=bce_dice_loss, optimizer='adam', metrics=[my_iou_metric])"
   ]
  },
  {
   "cell_type": "code",
   "execution_count": null,
   "metadata": {},
   "outputs": [],
   "source": [
    "valid_im_path,valid_mask_path = f'{DATA_DIR}/keras_im_val',f'{DATA_DIR}/keras_mask_val'\n",
    "\n",
    "\n",
    "validation_generator = DataGenerator(train_im_path=valid_im_path,\n",
    "                                     train_mask_path=valid_mask_path,\n",
    "                                     augmentations=AUGMENTATIONS_TEST,\n",
    "                                     img_size=IMG_SIZE,\n",
    "                                     shuffle=False)\n",
    "preds_valid = predict_result(model,\n",
    "                             validation_generator,\n",
    "                             IMG_SIZE)"
   ]
  },
  {
   "cell_type": "code",
   "execution_count": null,
   "metadata": {},
   "outputs": [],
   "source": [
    "valid_fn = glob.glob(f'{DATA_DIR}/keras_mask_val/*')\n",
    "y_valid_ori = np.array([cv2.resize(np.array(Image.open(fn)), (IMG_SIZE,IMG_SIZE)) for fn in valid_fn])\n",
    "assert y_valid_ori.shape == preds_valid.shape"
   ]
  },
  {
   "cell_type": "code",
   "execution_count": null,
   "metadata": {
    "scrolled": true
   },
   "outputs": [],
   "source": [
    "## Scoring for best model\n",
    "thresholds = np.linspace(0.4, 0.95, 16)\n",
    "ious = np.array([iou_metric_batch(y_valid_ori, np.int32(preds_valid > threshold)) for threshold in thresholds])"
   ]
  },
  {
   "cell_type": "code",
   "execution_count": null,
   "metadata": {},
   "outputs": [],
   "source": [
    "threshold_best_index = np.argmax(ious) \n",
    "iou_best = ious[threshold_best_index]\n",
    "threshold_best = thresholds[threshold_best_index]\n",
    "\n",
    "plt.plot(thresholds, ious)\n",
    "plt.plot(threshold_best, iou_best, \"xr\", label=\"Best threshold\")\n",
    "plt.xlabel(\"Threshold\")\n",
    "plt.ylabel(\"IoU\")\n",
    "plt.title(\"Threshold vs IoU ({}, {})\".format(threshold_best, iou_best))\n",
    "plt.legend()"
   ]
  },
  {
   "cell_type": "code",
   "execution_count": null,
   "metadata": {},
   "outputs": [],
   "source": [
    "test_fn = glob.glob(f'{DATA_DIR}/test/*')\n",
    "x_test = [cv2.resize(np.array(Image.open(fn)),(IMG_SIZE, IMG_SIZE)) for fn in test_fn]\n",
    "x_test = np.array(x_test)\n",
    "x_test = np.array([np.repeat(im[...,None],3,2) for im in x_test])\n",
    "print(x_test.shape)\n",
    "preds_test = model.predict(x_test,batch_size=batch_size)"
   ]
  },
  {
   "cell_type": "code",
   "execution_count": null,
   "metadata": {},
   "outputs": [],
   "source": [
    "import pdb\n",
    "\n",
    "rles = []\n",
    "i,max_img = 1,10\n",
    "for p in preds_test:\n",
    "    p = p.squeeze()\n",
    "    im = cv2.resize(p,(1024,1024))\n",
    "    im = im > threshold_best\n",
    "#     zero out the smaller regions.\n",
    "    if im.sum()<1024*2:\n",
    "        im[:] = 0\n",
    "    im = (im.T*255).astype(np.uint8)  \n",
    "    rles.append(mask2rle(im, 1024, 1024))\n"
   ]
  },
  {
   "cell_type": "code",
   "execution_count": null,
   "metadata": {},
   "outputs": [],
   "source": [
    "ids = [o.split('/')[-1][:-4] for o in test_fn]\n",
    "sub_df = pd.DataFrame({'ImageId': ids, 'EncodedPixels': rles})\n",
    "sub_df.loc[sub_df.EncodedPixels=='', 'EncodedPixels'] = '-1'\n",
    "sub_df.head()"
   ]
  },
  {
   "cell_type": "code",
   "execution_count": null,
   "metadata": {},
   "outputs": [],
   "source": [
    "sub_df.to_csv(f'keras_submission_{TAG}_best.csv', index=False)"
   ]
  },
  {
   "cell_type": "code",
   "execution_count": null,
   "metadata": {},
   "outputs": [],
   "source": [
    "sub_df.tail(10)"
   ]
  },
  {
   "cell_type": "code",
   "execution_count": null,
   "metadata": {},
   "outputs": [],
   "source": [
    "quit()"
   ]
  },
  {
   "cell_type": "code",
   "execution_count": null,
   "metadata": {},
   "outputs": [],
   "source": [
    "# for blending\n",
    "# test_fn = glob.glob(f'{DATA_DIR}/test/*')\n",
    "# x_test = [cv2.resize(np.array(Image.open(fn)),(IMG_SIZE, IMG_SIZE)) for fn in test_fn]\n",
    "# x_test = np.array(x_test)\n",
    "# x_test = np.array([np.repeat(im[...,None],3,2) for im in x_test])\n",
    "# print(x_test.shape)\n",
    "# preds_test = model.predict(x_test,batch_size=batch_size)\n",
    "# # del x_test; gc.collect()\n",
    "# # write_pickle_obj(preds_test, name='test_640.pickle')\n",
    "\n",
    "# ids = [o.split('/')[-1][:-4] for o in test_fn]\n",
    "# sub_df = pd.DataFrame({'ImageId': ids, 'EncodedPixels': -1})\n",
    "# file_names = sub_df['ImageId']\n",
    "\n",
    "# for i, (p) in enumerate(preds_test):\n",
    "#     p = p.squeeze()\n",
    "#     im = cv2.resize(p,(1024,1024))\n",
    "#     cv2.imwrite(f'test_masks_sa/{file_names[i]}.png', im)"
   ]
  }
 ],
 "metadata": {
  "kernelspec": {
   "display_name": "WZ",
   "language": "python",
   "name": "wz"
  },
  "language_info": {
   "codemirror_mode": {
    "name": "ipython",
    "version": 3
   },
   "file_extension": ".py",
   "mimetype": "text/x-python",
   "name": "python",
   "nbconvert_exporter": "python",
   "pygments_lexer": "ipython3",
   "version": "3.7.3"
  }
 },
 "nbformat": 4,
 "nbformat_minor": 2
}
